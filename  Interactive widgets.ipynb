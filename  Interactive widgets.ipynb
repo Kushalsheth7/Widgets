{
 "cells": [
  {
   "cell_type": "code",
   "execution_count": 2,
   "id": "8906d395-e232-41df-97dc-158b5b9527a1",
   "metadata": {},
   "outputs": [],
   "source": [
    "# pip install ipywidgets"
   ]
  },
  {
   "cell_type": "code",
   "execution_count": 6,
   "id": "eba1a452-0125-4dd3-8f13-fd3e720598d1",
   "metadata": {},
   "outputs": [
    {
     "data": {
      "application/vnd.jupyter.widget-view+json": {
       "model_id": "445707c599f644709d88290e46f0b967",
       "version_major": 2,
       "version_minor": 0
      },
      "text/plain": [
       "interactive(children=(FloatSlider(value=1.0, description='Frequency', max=5.0, min=0.1), FloatSlider(value=1.0…"
      ]
     },
     "metadata": {},
     "output_type": "display_data"
    },
    {
     "data": {
      "text/plain": [
       "<function __main__.update_plot(frequency=1.0, amplitude=1.0)>"
      ]
     },
     "execution_count": 6,
     "metadata": {},
     "output_type": "execute_result"
    }
   ],
   "source": [
    "import numpy as np\n",
    "import matplotlib.pyplot as plt\n",
    "from ipywidgets import interact, FloatSlider\n",
    "import ipywidgets as widgets\n",
    "\n",
    "\n",
    "def update_plot(frequency=1.0, amplitude=1.0):\n",
    "    x = np.linspace(0, 2 * np.pi, 500)\n",
    "    y = amplitude * np.sin(frequency * x)\n",
    "\n",
    "    plt.figure(figsize=(8, 4))\n",
    "    plt.plot(x, y, label=f'Sine Wave (f={frequency}, A={amplitude})', color='blue')\n",
    "    plt.title('Interactive Sine Wave', fontsize=16)\n",
    "    plt.xlabel('X', fontsize=12)\n",
    "    plt.ylabel('Y', fontsize=12)\n",
    "    plt.axhline(0, color='black', linewidth=0.5, linestyle='--')\n",
    "    plt.legend(loc='upper right', fontsize=12)\n",
    "    plt.grid(alpha=0.3)\n",
    "    plt.show()\n",
    "\n",
    "frequency_slider = FloatSlider(value=1.0, min=0.1, max=5.0, step=0.1, description='Frequency')\n",
    "amplitude_slider = FloatSlider(value=1.0, min=0.1, max=2.0, step=0.1, description='Amplitude')\n",
    "\n",
    "\n",
    "interact(update_plot, frequency=frequency_slider, amplitude=amplitude_slider)\n"
   ]
  },
  {
   "cell_type": "code",
   "execution_count": null,
   "id": "5866990b-1962-49ca-acbe-09335d6f2774",
   "metadata": {},
   "outputs": [],
   "source": []
  }
 ],
 "metadata": {
  "kernelspec": {
   "display_name": "Python 3 (ipykernel)",
   "language": "python",
   "name": "python3"
  },
  "language_info": {
   "codemirror_mode": {
    "name": "ipython",
    "version": 3
   },
   "file_extension": ".py",
   "mimetype": "text/x-python",
   "name": "python",
   "nbconvert_exporter": "python",
   "pygments_lexer": "ipython3",
   "version": "3.12.0"
  }
 },
 "nbformat": 4,
 "nbformat_minor": 5
}
